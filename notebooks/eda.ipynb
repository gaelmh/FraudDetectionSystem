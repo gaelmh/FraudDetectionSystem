{
 "cells": [
  {
   "cell_type": "markdown",
   "id": "a85e9ef2-8687-4b80-b6b8-444da11d27d7",
   "metadata": {},
   "source": [
    "# Exloratory Data Analysis (EDA)"
   ]
  },
  {
   "cell_type": "markdown",
   "id": "f265a54b-7057-43b1-aeab-a02963f09177",
   "metadata": {},
   "source": [
    "## Import Necessary Libraries"
   ]
  },
  {
   "cell_type": "code",
   "execution_count": 1,
   "id": "e36d03d1-5ef1-4e06-a30b-2a9c7b9c9595",
   "metadata": {},
   "outputs": [],
   "source": [
    "import os\n",
    "import pandas as pd\n",
    "import numpy as np\n",
    "import matplotlib.pyplot as plt"
   ]
  },
  {
   "cell_type": "markdown",
   "id": "4abcbec2-bcb2-4861-9d6b-969a657b6dd2",
   "metadata": {},
   "source": [
    "## Import Dataset"
   ]
  },
  {
   "cell_type": "code",
   "execution_count": 2,
   "id": "fde46260-6284-46f5-857a-3217e7ccf972",
   "metadata": {},
   "outputs": [],
   "source": [
    "FILE_PATH = 'C:/Users/gaelm/OneDrive - DePaul University/Gael/Trabajo/Fraud Detection System/data/raw/'\n",
    "FILE_NAME = 'PS_20174392719_1491204439457_log.csv'\n",
    "FULL_PATH = os.path.join(FILE_PATH, FILE_NAME)"
   ]
  },
  {
   "cell_type": "code",
   "execution_count": 10,
   "id": "5384efdf-973d-4a76-8d0d-1a554edb4de6",
   "metadata": {},
   "outputs": [
    {
     "data": {
      "text/html": [
       "<div>\n",
       "<style scoped>\n",
       "    .dataframe tbody tr th:only-of-type {\n",
       "        vertical-align: middle;\n",
       "    }\n",
       "\n",
       "    .dataframe tbody tr th {\n",
       "        vertical-align: top;\n",
       "    }\n",
       "\n",
       "    .dataframe thead th {\n",
       "        text-align: right;\n",
       "    }\n",
       "</style>\n",
       "<table border=\"1\" class=\"dataframe\">\n",
       "  <thead>\n",
       "    <tr style=\"text-align: right;\">\n",
       "      <th></th>\n",
       "      <th>step</th>\n",
       "      <th>type</th>\n",
       "      <th>amount</th>\n",
       "      <th>nameOrig</th>\n",
       "      <th>oldbalanceOrg</th>\n",
       "      <th>newbalanceOrig</th>\n",
       "      <th>nameDest</th>\n",
       "      <th>oldbalanceDest</th>\n",
       "      <th>newbalanceDest</th>\n",
       "      <th>isFraud</th>\n",
       "      <th>isFlaggedFraud</th>\n",
       "    </tr>\n",
       "  </thead>\n",
       "  <tbody>\n",
       "    <tr>\n",
       "      <th>0</th>\n",
       "      <td>1</td>\n",
       "      <td>PAYMENT</td>\n",
       "      <td>9839.64</td>\n",
       "      <td>C1231006815</td>\n",
       "      <td>170136.00</td>\n",
       "      <td>160296.36</td>\n",
       "      <td>M1979787155</td>\n",
       "      <td>0.0</td>\n",
       "      <td>0.00</td>\n",
       "      <td>0</td>\n",
       "      <td>0</td>\n",
       "    </tr>\n",
       "    <tr>\n",
       "      <th>1</th>\n",
       "      <td>1</td>\n",
       "      <td>PAYMENT</td>\n",
       "      <td>1864.28</td>\n",
       "      <td>C1666544295</td>\n",
       "      <td>21249.00</td>\n",
       "      <td>19384.72</td>\n",
       "      <td>M2044282225</td>\n",
       "      <td>0.0</td>\n",
       "      <td>0.00</td>\n",
       "      <td>0</td>\n",
       "      <td>0</td>\n",
       "    </tr>\n",
       "    <tr>\n",
       "      <th>2</th>\n",
       "      <td>1</td>\n",
       "      <td>TRANSFER</td>\n",
       "      <td>181.00</td>\n",
       "      <td>C1305486145</td>\n",
       "      <td>181.00</td>\n",
       "      <td>0.00</td>\n",
       "      <td>C553264065</td>\n",
       "      <td>0.0</td>\n",
       "      <td>0.00</td>\n",
       "      <td>1</td>\n",
       "      <td>0</td>\n",
       "    </tr>\n",
       "    <tr>\n",
       "      <th>3</th>\n",
       "      <td>1</td>\n",
       "      <td>CASH_OUT</td>\n",
       "      <td>181.00</td>\n",
       "      <td>C840083671</td>\n",
       "      <td>181.00</td>\n",
       "      <td>0.00</td>\n",
       "      <td>C38997010</td>\n",
       "      <td>21182.0</td>\n",
       "      <td>0.00</td>\n",
       "      <td>1</td>\n",
       "      <td>0</td>\n",
       "    </tr>\n",
       "    <tr>\n",
       "      <th>4</th>\n",
       "      <td>1</td>\n",
       "      <td>PAYMENT</td>\n",
       "      <td>11668.14</td>\n",
       "      <td>C2048537720</td>\n",
       "      <td>41554.00</td>\n",
       "      <td>29885.86</td>\n",
       "      <td>M1230701703</td>\n",
       "      <td>0.0</td>\n",
       "      <td>0.00</td>\n",
       "      <td>0</td>\n",
       "      <td>0</td>\n",
       "    </tr>\n",
       "    <tr>\n",
       "      <th>5</th>\n",
       "      <td>1</td>\n",
       "      <td>PAYMENT</td>\n",
       "      <td>7817.71</td>\n",
       "      <td>C90045638</td>\n",
       "      <td>53860.00</td>\n",
       "      <td>46042.29</td>\n",
       "      <td>M573487274</td>\n",
       "      <td>0.0</td>\n",
       "      <td>0.00</td>\n",
       "      <td>0</td>\n",
       "      <td>0</td>\n",
       "    </tr>\n",
       "    <tr>\n",
       "      <th>6</th>\n",
       "      <td>1</td>\n",
       "      <td>PAYMENT</td>\n",
       "      <td>7107.77</td>\n",
       "      <td>C154988899</td>\n",
       "      <td>183195.00</td>\n",
       "      <td>176087.23</td>\n",
       "      <td>M408069119</td>\n",
       "      <td>0.0</td>\n",
       "      <td>0.00</td>\n",
       "      <td>0</td>\n",
       "      <td>0</td>\n",
       "    </tr>\n",
       "    <tr>\n",
       "      <th>7</th>\n",
       "      <td>1</td>\n",
       "      <td>PAYMENT</td>\n",
       "      <td>7861.64</td>\n",
       "      <td>C1912850431</td>\n",
       "      <td>176087.23</td>\n",
       "      <td>168225.59</td>\n",
       "      <td>M633326333</td>\n",
       "      <td>0.0</td>\n",
       "      <td>0.00</td>\n",
       "      <td>0</td>\n",
       "      <td>0</td>\n",
       "    </tr>\n",
       "    <tr>\n",
       "      <th>8</th>\n",
       "      <td>1</td>\n",
       "      <td>PAYMENT</td>\n",
       "      <td>4024.36</td>\n",
       "      <td>C1265012928</td>\n",
       "      <td>2671.00</td>\n",
       "      <td>0.00</td>\n",
       "      <td>M1176932104</td>\n",
       "      <td>0.0</td>\n",
       "      <td>0.00</td>\n",
       "      <td>0</td>\n",
       "      <td>0</td>\n",
       "    </tr>\n",
       "    <tr>\n",
       "      <th>9</th>\n",
       "      <td>1</td>\n",
       "      <td>DEBIT</td>\n",
       "      <td>5337.77</td>\n",
       "      <td>C712410124</td>\n",
       "      <td>41720.00</td>\n",
       "      <td>36382.23</td>\n",
       "      <td>C195600860</td>\n",
       "      <td>41898.0</td>\n",
       "      <td>40348.79</td>\n",
       "      <td>0</td>\n",
       "      <td>0</td>\n",
       "    </tr>\n",
       "  </tbody>\n",
       "</table>\n",
       "</div>"
      ],
      "text/plain": [
       "   step      type    amount     nameOrig  oldbalanceOrg  newbalanceOrig  \\\n",
       "0     1   PAYMENT   9839.64  C1231006815      170136.00       160296.36   \n",
       "1     1   PAYMENT   1864.28  C1666544295       21249.00        19384.72   \n",
       "2     1  TRANSFER    181.00  C1305486145         181.00            0.00   \n",
       "3     1  CASH_OUT    181.00   C840083671         181.00            0.00   \n",
       "4     1   PAYMENT  11668.14  C2048537720       41554.00        29885.86   \n",
       "5     1   PAYMENT   7817.71    C90045638       53860.00        46042.29   \n",
       "6     1   PAYMENT   7107.77   C154988899      183195.00       176087.23   \n",
       "7     1   PAYMENT   7861.64  C1912850431      176087.23       168225.59   \n",
       "8     1   PAYMENT   4024.36  C1265012928        2671.00            0.00   \n",
       "9     1     DEBIT   5337.77   C712410124       41720.00        36382.23   \n",
       "\n",
       "      nameDest  oldbalanceDest  newbalanceDest  isFraud  isFlaggedFraud  \n",
       "0  M1979787155             0.0            0.00        0               0  \n",
       "1  M2044282225             0.0            0.00        0               0  \n",
       "2   C553264065             0.0            0.00        1               0  \n",
       "3    C38997010         21182.0            0.00        1               0  \n",
       "4  M1230701703             0.0            0.00        0               0  \n",
       "5   M573487274             0.0            0.00        0               0  \n",
       "6   M408069119             0.0            0.00        0               0  \n",
       "7   M633326333             0.0            0.00        0               0  \n",
       "8  M1176932104             0.0            0.00        0               0  \n",
       "9   C195600860         41898.0        40348.79        0               0  "
      ]
     },
     "execution_count": 10,
     "metadata": {},
     "output_type": "execute_result"
    }
   ],
   "source": [
    "# Read Data\n",
    "df = pd.read_csv(FULL_PATH)\n",
    "df.head(10) # --> Make sure the data was correctly read"
   ]
  },
  {
   "cell_type": "markdown",
   "id": "d6ed3004-886a-400a-bc86-8e4ff7587ea0",
   "metadata": {},
   "source": [
    "## Basic Initial Exploration"
   ]
  },
  {
   "cell_type": "code",
   "execution_count": 4,
   "id": "87cc3442-8761-49a3-9153-6d6588471807",
   "metadata": {},
   "outputs": [
    {
     "name": "stdout",
     "output_type": "stream",
     "text": [
      "--- Data's Basic Info ---\n",
      "<class 'pandas.core.frame.DataFrame'>\n",
      "RangeIndex: 6362620 entries, 0 to 6362619\n",
      "Data columns (total 11 columns):\n",
      " #   Column          Dtype  \n",
      "---  ------          -----  \n",
      " 0   step            int64  \n",
      " 1   type            object \n",
      " 2   amount          float64\n",
      " 3   nameOrig        object \n",
      " 4   oldbalanceOrg   float64\n",
      " 5   newbalanceOrig  float64\n",
      " 6   nameDest        object \n",
      " 7   oldbalanceDest  float64\n",
      " 8   newbalanceDest  float64\n",
      " 9   isFraud         int64  \n",
      " 10  isFlaggedFraud  int64  \n",
      "dtypes: float64(5), int64(3), object(3)\n",
      "memory usage: 534.0+ MB\n"
     ]
    }
   ],
   "source": [
    "# Getting basic information\n",
    "print(\"--- Data's Basic Info ---\")\n",
    "df.info()"
   ]
  },
  {
   "cell_type": "markdown",
   "id": "e6eed94a-05ff-49be-bb8d-52da999ffa3b",
   "metadata": {},
   "source": [
    "The initial dataset consists of 6362620 obervations, 10 predictors (see types below) and a target feature (isFraud).\n",
    "- 3 are qualitative ('object' type)\n",
    "- 8 are quantitative (3 'int64' and 5 'float64')"
   ]
  },
  {
   "cell_type": "code",
   "execution_count": 5,
   "id": "5ee69434-bced-4c1f-8bae-9893ecbc579d",
   "metadata": {},
   "outputs": [
    {
     "name": "stdout",
     "output_type": "stream",
     "text": [
      "--- Missing Values ---\n"
     ]
    },
    {
     "data": {
      "text/plain": [
       "step              0\n",
       "type              0\n",
       "amount            0\n",
       "nameOrig          0\n",
       "oldbalanceOrg     0\n",
       "newbalanceOrig    0\n",
       "nameDest          0\n",
       "oldbalanceDest    0\n",
       "newbalanceDest    0\n",
       "isFraud           0\n",
       "isFlaggedFraud    0\n",
       "dtype: int64"
      ]
     },
     "execution_count": 5,
     "metadata": {},
     "output_type": "execute_result"
    }
   ],
   "source": [
    "# Initial Missig Values\n",
    "print(\"--- Missing Values ---\")\n",
    "df.isnull().sum()"
   ]
  },
  {
   "cell_type": "markdown",
   "id": "2767c1ec-0654-4b69-9d0a-6668c932c36a",
   "metadata": {},
   "source": [
    "There are no missing values in the dataset."
   ]
  },
  {
   "cell_type": "code",
   "execution_count": 6,
   "id": "d54f8383-69ca-4523-a63c-aac04ec60d10",
   "metadata": {},
   "outputs": [
    {
     "name": "stdout",
     "output_type": "stream",
     "text": [
      "--- Target Feature Distribution ---\n",
      "6354407 legitimate transctions (99.87%).\n",
      "8213 fraudulent transactions (0.13%).\n"
     ]
    }
   ],
   "source": [
    "# Target Feature Distribution\n",
    "print(\"--- Target Feature Distribution ---\")\n",
    "target_distribution = df['isFraud'].value_counts()\n",
    "classes = []\n",
    "total_observations = len(df)\n",
    "for i in target_distribution:\n",
    "    option = (i/total_observations)*100\n",
    "    classes.append(option)\n",
    "\n",
    "print(f\"{target_distribution[0]} legitimate transctions ({classes[0]:.2f}%).\")\n",
    "print(f\"{target_distribution[1]} fraudulent transactions ({classes[1]:.2f}%).\")"
   ]
  },
  {
   "cell_type": "markdown",
   "id": "1a71f373-e0ff-4bfd-aaa3-e98bd93ff8ce",
   "metadata": {},
   "source": [
    "There is a great class imbalance in the dataset, with less than 1% of the observations being fraudulent. \n",
    "While this was expected, class balancing techniques (like SMOTE) must be applied to work with proper data."
   ]
  },
  {
   "cell_type": "markdown",
   "id": "f8ec4309-ef2f-4a33-857e-f5b854fe4be0",
   "metadata": {},
   "source": [
    "## Relationships with Target Feature"
   ]
  },
  {
   "cell_type": "code",
   "execution_count": 7,
   "id": "031f3a65-d5f0-40e0-b132-8c21b19d2ac9",
   "metadata": {},
   "outputs": [
    {
     "name": "stdout",
     "output_type": "stream",
     "text": [
      "--- Fraudulent Transactions by Transaction Type ---\n",
      "There are 5: PAYMENT, TRANSFER, CASH_OUT, DEBIT, CASH_IN\n",
      "4116 fraudulent transactions were made by CASH_OUT\n",
      "4097 fraudulent transactions were made by TRANSFER\n"
     ]
    }
   ],
   "source": [
    "# Relationship between type and isFraud\n",
    "print(\"--- Fraudulent Transactions by Transaction Type ---\")\n",
    "transaction_types = df['type'].unique()\n",
    "fraud_transactions_by_type = df[df['isFraud'] == 1]['type'].value_counts()\n",
    "\n",
    "print(f\"There are {len(transaction_types)}: {transaction_types[0]}, {transaction_types[1]}, {transaction_types[2]}, {transaction_types[3]}, {transaction_types[4]}\") \n",
    "for transaction_type, count in fraud_transactions_by_type.items():\n",
    "    print(f\"{count} fraudulent transactions were made by {transaction_type}\")"
   ]
  },
  {
   "cell_type": "markdown",
   "id": "f636e104-679b-47a4-a351-ab354b615413",
   "metadata": {},
   "source": [
    "There are 5 types of transactions: 'payment', 'transfer', 'cash-out', 'cash-in', and 'debit'. However, fraud is only present in 'transfer' and 'cash-out' transactions.  "
   ]
  },
  {
   "cell_type": "code",
   "execution_count": 38,
   "id": "3fb4a0fc-e2a3-48ad-b241-1fdabb36d8f2",
   "metadata": {},
   "outputs": [
    {
     "name": "stdout",
     "output_type": "stream",
     "text": [
      "--- Fraudulent Amount Statistics ---\n",
      "Average Fradulent Transaction: $1,467,967.30\n",
      "Average Legitimate Transaction: $178,197.04\n",
      "The average fraudulent transaction is $1,289,770.26 bigger than the average legitimate transaction.\n",
      "\n",
      "Lowest Fradulent Transaction: $0.00\n",
      "Lowest Legitimate Transaction: $0.01\n",
      "The smallest legitimate transaction is $0.01 bigger than the smallest fraudulent transaction.\n",
      "\n",
      "Highest Fradulent Transaction: $10,000,000.00\n",
      "Highest Legitimate Transaction: $92,445,516.64\n",
      "The biggest legitimate transaction is $82,445,516.64 bigger than the biggest fraudulent transaction.\n"
     ]
    }
   ],
   "source": [
    "# Relationship between amount and isFraud\n",
    "difference = 0\n",
    "\n",
    "print(\"--- Fraudulent Amount Statistics ---\")\n",
    "avg_fraudulent_amount = df[df['isFraud'] == 1]['amount'].mean()\n",
    "avg_legitimate_amount = df[df['isFraud'] == 0]['amount'].mean()\n",
    "print(f\"Average Fradulent Transaction: ${avg_fraudulent_amount:,.2f}\\nAverage Legitimate Transaction: ${avg_legitimate_amount:,.2f}\")\n",
    "if avg_fraudulent_amount > avg_legitimate_amount:\n",
    "    difference = avg_fraudulent_amount - avg_legitimate_amount\n",
    "    print(f\"The average fraudulent transaction is ${difference:,.2f} bigger than the average legitimate transaction.\")\n",
    "else:\n",
    "    difference = avg_legitimate_amount - avg_fraudulent_amount\n",
    "    print(f\"The average legitimate transaction is ${difference:,.2f} bigger than the average fraudulent transaction.\")\n",
    "\n",
    "min_fraudulent_amount = df[df['isFraud'] == 1]['amount'].min()\n",
    "min_legitimate_amount = df[df['isFraud'] == 0]['amount'].min()\n",
    "print(f\"\\nLowest Fradulent Transaction: ${min_fraudulent_amount:,.2f}\\nLowest Legitimate Transaction: ${min_legitimate_amount:,.2f}\")\n",
    "if min_fraudulent_amount > min_legitimate_amount:\n",
    "    difference = min_fraudulent_amount - min_legitimate_amount\n",
    "    print(f\"The smallest fraudulent transaction is ${difference:,.2f} bigger than the smallest legitimate transaction.\")\n",
    "else:\n",
    "    difference = min_legitimate_amount - min_fraudulent_amount\n",
    "    print(f\"The smallest legitimate transaction is ${difference:,.2f} bigger than the smallest fraudulent transaction.\")\n",
    "\n",
    "max_fraudulent_amount = df[df['isFraud'] == 1]['amount'].max()\n",
    "max_legitimate_amount = df[df['isFraud'] == 0]['amount'].max()\n",
    "print(f\"\\nHighest Fradulent Transaction: ${max_fraudulent_amount:,.2f}\\nHighest Legitimate Transaction: ${max_legitimate_amount:,.2f}\")\n",
    "if max_fraudulent_amount > max_legitimate_amount:\n",
    "    difference = max_fraudulent_amount - avg_legitimate_amount\n",
    "    print(f\"The biggest fraudulent transaction is ${difference:,.2f} bigger than the biggest legitimate transaction.\")\n",
    "else:\n",
    "    difference = max_legitimate_amount - max_fraudulent_amount\n",
    "    print(f\"The biggest legitimate transaction is ${difference:,.2f} bigger than the biggest fraudulent transaction.\")"
   ]
  },
  {
   "cell_type": "markdown",
   "id": "13c6e547-58b5-478b-ac27-d8422fdc7758",
   "metadata": {},
   "source": [
    "- The average fraudulent transaction is $1,289,770.26 bigger than the average legitimate transaction.\n",
    "\n",
    "- The smallest legitimate transaction is $0.01 bigger than the smallest fraudulent transaction.\n",
    "\n",
    "- The biggest legitimate transaction is $82,445,516.64 bigger than the biggest fraudulent transaction."
   ]
  },
  {
   "cell_type": "code",
   "execution_count": 60,
   "id": "fa314488-cf77-4ff5-af7e-0a7fa7bf975f",
   "metadata": {},
   "outputs": [
    {
     "name": "stdout",
     "output_type": "stream",
     "text": [
      "--- Fraudulent Transactions by Hour ---\n",
      "12:00 - 12:59 a.m.:\t 358\n",
      "1:00 - 1:59 a.m.:\t 372\n",
      "2:00 - 2:59 a.m.:\t 326\n",
      "3:00 - 3:59 a.m.:\t 274\n",
      "4:00 - 4:59 a.m.:\t 366\n",
      "5:00 - 5:59 a.m.:\t 358\n",
      "6:00 - 6:59 a.m.:\t 328\n",
      "7:00 - 7:59 a.m.:\t 368\n",
      "8:00 - 8:59 a.m.:\t 341\n",
      "9:00 - 9:59 a.m.:\t 375\n",
      "10:00 - 10:59 a.m.:\t 324\n",
      "11:00 - 11:59 a.m.:\t 339\n",
      "12:00 - 12:59 p.m.:\t 346\n",
      "1:00 - 1:59 p.m.:\t 353\n",
      "2:00 - 2:59 p.m.:\t 341\n",
      "3:00 - 3:59 p.m.:\t 345\n",
      "4:00 - 4:59 p.m.:\t 353\n",
      "5:00 - 5:59 p.m.:\t 343\n",
      "6:00 - 6:59 p.m.:\t 342\n",
      "7:00 - 7:59 p.m.:\t 340\n",
      "8:00 - 8:59 p.m.:\t 347\n",
      "9:00 - 9:59 p.m.:\t 351\n",
      "10:00 - 10:59 p.m.:\t 323\n",
      "11:00 - 11:59 p.m.:\t 300\n",
      "The 3 hours with the most fraudulent transactions are 1:00 - 1:59 a.m., 7:00 - 7:59 a.m., 9:00 - 9:59 a.m..\n",
      "\n",
      "--- Fraudulent Transactions by Week Day ---\n",
      "Monday: \t1315\n",
      "Tuesday: \t1300\n",
      "Wednesday: \t1464\n",
      "Thursday: \t1032\n",
      "Friday: \t1078\n",
      "Saturday: \t986\n",
      "Sunday: \t1038\n",
      "The 3 days of the week with the most fraudulent transactions are Monday, Tuesday, Wednesday.\n",
      "\n",
      "--- Fraudulent Transactions by Month Day ---\n",
      "Day 1:\t271\n",
      "Day 2:\t309\n",
      "Day 3:\t310\n",
      "Day 4:\t262\n",
      "Day 5:\t252\n",
      "Day 6:\t228\n",
      "Day 7:\t272\n",
      "Day 8:\t278\n",
      "Day 9:\t255\n",
      "Day 10:\t282\n",
      "Day 11:\t262\n",
      "Day 12:\t298\n",
      "Day 13:\t242\n",
      "Day 14:\t246\n",
      "Day 15:\t250\n",
      "Day 16:\t252\n",
      "Day 17:\t320\n",
      "Day 18:\t268\n",
      "Day 19:\t256\n",
      "Day 20:\t236\n",
      "Day 21:\t272\n",
      "Day 22:\t256\n",
      "Day 23:\t216\n",
      "Day 24:\t280\n",
      "Day 25:\t240\n",
      "Day 26:\t272\n",
      "Day 27:\t280\n",
      "Day 28:\t248\n",
      "Day 29:\t260\n",
      "Day 30:\t268\n",
      "Day 31:\t272\n",
      "The 3 days of the month with the most fraudulent transactions are: 2, 3, 17\n"
     ]
    }
   ],
   "source": [
    "# Relationship between step and isFraud\n",
    "print(\"--- Fraudulent Transactions by Hour ---\")\n",
    "hour_name_map = {0: '12:00 - 12:59 a.m.', 1: '1:00 - 1:59 a.m.', 2: '2:00 - 2:59 a.m.', 3: '3:00 - 3:59 a.m.', \n",
    "                 4: '4:00 - 4:59 a.m.', 5: '5:00 - 5:59 a.m.', 6: '6:00 - 6:59 a.m.', 7: '7:00 - 7:59 a.m.', \n",
    "                 8: '8:00 - 8:59 a.m.', 9: '9:00 - 9:59 a.m.', 10: '10:00 - 10:59 a.m.', 11: '11:00 - 11:59 a.m.', \n",
    "                 12: '12:00 - 12:59 p.m.', 13: '1:00 - 1:59 p.m.', 14: '2:00 - 2:59 p.m.', 15: '3:00 - 3:59 p.m.', \n",
    "                 16: '4:00 - 4:59 p.m.', 17: '5:00 - 5:59 p.m.', 18: '6:00 - 6:59 p.m.', 19: '7:00 - 7:59 p.m.', \n",
    "                 20: '8:00 - 8:59 p.m.', 21: '9:00 - 9:59 p.m.', 22: '10:00 - 10:59 p.m.', 23: '11:00 - 11:59 p.m.',}\n",
    "df['hour_of_day'] = (df['step'] - 1) % 24\n",
    "fraud_hours = df[df['isFraud'] == 1]['hour_of_day'].value_counts().sort_index()\n",
    "for hour_num, count in fraud_hours.items():\n",
    "    hour_name = hour_name_map.get(hour_num)\n",
    "    print(f\"{hour_name}:\\t {count}\")\n",
    "top_3_fraud_hours_nums = fraud_hours.nlargest(3).index.tolist()\n",
    "top_3_fraud_hours_names = [hour_name_map.get(hour_num) for hour_num in top_3_fraud_hours_nums]\n",
    "top_3_fraud_hours_names.sort()\n",
    "print(f\"The 3 hours with the most fraudulent transactions are {', '.join(top_3_fraud_hours_names)}.\")\n",
    "\n",
    "print(\"\\n--- Fraudulent Transactions by Week Day ---\")\n",
    "day_name_map = {1: 'Monday', 2: 'Tuesday', 3: 'Wednesday', 4: 'Thursday', 5: 'Friday', 6: 'Saturday', 7: 'Sunday'}\n",
    "df['day_of_month'] = (df['step'] - 1) // 24 + 1\n",
    "df['day_of_week'] = (df['day_of_month'] - 1) % 7 + 1\n",
    "fraud_days_week = df[df['isFraud'] == 1]['day_of_week'].value_counts().sort_index()\n",
    "for day_num, count in fraud_days_week.items():\n",
    "    day_name = day_name_map.get(day_num)\n",
    "    print(f\"{day_name}: \\t{count}\")\n",
    "\n",
    "top_3_fraud_week_days = fraud_days_week.nlargest(3).index.tolist()\n",
    "top_3_fraud_week_days_names = [day_name_map.get(day_num) for day_num in top_3_fraud_week_days]\n",
    "top_3_fraud_week_days_names.sort()\n",
    "print(f\"The 3 days of the week with the most fraudulent transactions are {', '.join(top_3_fraud_week_days_names)}.\")\n",
    "\n",
    "print(\"\\n--- Fraudulent Transactions by Month Day ---\")\n",
    "fraud_days_month = df[df['isFraud'] == 1]['day_of_month'].value_counts().sort_index()\n",
    "for day_num, count in fraud_days_month.items():\n",
    "    print(f\"Day {day_num}:\\t{count}\")\n",
    "top_3_fraud_month_days_nums = fraud_days_month.nlargest(3).index.tolist()\n",
    "top_3_fraud_month_days_nums.sort()\n",
    "top_3_fraud_month_days_str = [str(day) for day in top_3_fraud_month_days_nums]\n",
    "print(f\"The 3 days of the month with the most fraudulent transactions are: {', '.join(top_3_fraud_month_days_str)}\")"
   ]
  },
  {
   "cell_type": "markdown",
   "id": "340385c9-2556-42ee-a470-258f060f0c47",
   "metadata": {},
   "source": [
    "- The 3 hours with the most fraudulent transactions are 1:00 - 1:59 a.m., 7:00 - 7:59 a.m., 9:00 - 9:59 a.m..\n",
    "- The 3 days of the week with the most fraudulent transactions are Monday, Tuesday, Wednesday.\n",
    "- The 3 days of the month with the most fraudulent transactions are: 2, 3, 17\n",
    "\n",
    "Note: The order shown is alphabetical, it does not reflect the actual order (from highest to lowest frauds)."
   ]
  },
  {
   "cell_type": "code",
   "execution_count": 65,
   "id": "cf41bc28-57d2-4761-ae34-5b0e9a320da9",
   "metadata": {},
   "outputs": [
    {
     "name": "stdout",
     "output_type": "stream",
     "text": [
      "--- Balance Inconsistencies ---\n",
      "Number of fraudulent transactions with inconsistent balances (Origin): 45\n",
      "Number of fraudulent transactions with inconsistent balances (Destination): 4095\n",
      "The Destination shows more balance inconsistencies than the Origin.\n",
      "\n",
      "--- Origin's Account Emptied ---\n",
      "Number of TRANSFER/CASH_OUT where origin account was emptied: 8012\n",
      "\n",
      "--- Mule Account (Destination starts at 0, ends at 0 after transaction) ---\n",
      "Number of TRANSFER/CASH_OUT with mule account behavior (dest 0->0): 4070\n",
      "\n",
      "--- High Amount with Zero Balances ---\n",
      "Number of TRANSFER/CASH_OUT with all balances zero and high amount: 0\n"
     ]
    }
   ],
   "source": [
    "# Relationship between balances (origin and destination) and isFraud\n",
    "df_fraud = df[df['isFraud'] == 1].copy()\n",
    "\n",
    "print(\"--- Balance Inconsistencies ---\")\n",
    "# Check for balance inconsistencies (Originator)\n",
    "df_fraud['expected_newbalanceOrg'] = df_fraud['oldbalanceOrg'] - df_fraud['amount']\n",
    "df_fraud['balance_diff_orig'] = df_fraud['newbalanceOrig'] - df_fraud['expected_newbalanceOrg']\n",
    "inconsistent_orig_balances = df_fraud[(df_fraud['type'].isin(['TRANSFER', 'CASH_OUT'])) & \n",
    "    (df_fraud['balance_diff_orig'].abs() > 0.01)]\n",
    "print(f\"Number of fraudulent transactions with inconsistent balances (Origin): {len(inconsistent_orig_balances)}\")\n",
    "\n",
    "# Check for balance inconsistencies (Destination)\n",
    "df_fraud['expected_newbalanceDest'] = df_fraud['oldbalanceDest'] + df_fraud['amount']\n",
    "df_fraud['balance_diff_dest'] = df_fraud['newbalanceDest'] - df_fraud['expected_newbalanceDest']\n",
    "inconsistent_dest_balances = df_fraud[(df_fraud['type'].isin(['TRANSFER'])) & \n",
    "    (~df_fraud['nameDest'].str.startswith('M')) & \n",
    "    (df_fraud['balance_diff_dest'].abs() > 0.01)]\n",
    "print(f\"Number of fraudulent transactions with inconsistent balances (Destination): {len(inconsistent_dest_balances)}\")\n",
    "\n",
    "if len(inconsistent_orig_balances) > len(inconsistent_dest_balances):\n",
    "    print(f\"The Origin shows more balance inconsistencies than the Destination.\")\n",
    "else:\n",
    "    print(f\"The Destination shows more balance inconsistencies than the Origin.\")\n",
    "\n",
    "# Specific Fraud Pattern: Origin Account Emptied\n",
    "print(\"\\n--- Origin's Account Emptied ---\")\n",
    "fraud_orig_emptied = df_fraud[\n",
    "    (df_fraud['type'].isin(['TRANSFER', 'CASH_OUT'])) & \n",
    "    (df_fraud['oldbalanceOrg'] > 0) & \n",
    "    (df_fraud['newbalanceOrig'] == 0)]\n",
    "print(f\"Number of TRANSFER/CASH_OUT where origin account was emptied: {len(fraud_orig_emptied)}\")\n",
    "\n",
    "# Specific Fraud Pattern: Mule Account Behavior (Destination starts at 0, ends at 0 after transaction)\n",
    "print(\"\\n--- Mule Account (Destination starts at 0, ends at 0 after transaction) ---\")\n",
    "fraud_mule_account = df_fraud[\n",
    "    (df_fraud['type'].isin(['TRANSFER', 'CASH_OUT'])) & \n",
    "    (df_fraud['oldbalanceDest'] == 0) & \n",
    "    (df_fraud['newbalanceDest'] == 0) &\n",
    "    (df_fraud['amount'] > 0)]\n",
    "print(f\"Number of TRANSFER/CASH_OUT with mule account behavior: {len(fraud_mule_account)}\")\n",
    "\n",
    "# Specific Fraud Pattern: High Amount with Zero Balances (Strongest signal in this dataset)\n",
    "print(\"\\n--- High Amount with Zero Balances ---\")\n",
    "fraud_zero_balances_high_amount = df_fraud[\n",
    "    (df_fraud['type'].isin(['TRANSFER', 'CASH_OUT'])) &\n",
    "    (df_fraud['oldbalanceOrg'] == 0) & \n",
    "    (df_fraud['newbalanceOrig'] == 0) & \n",
    "    (df_fraud['oldbalanceDest'] == 0) & \n",
    "    (df_fraud['newbalanceDest'] == 0) &\n",
    "    (df_fraud['amount'] > 0)]\n",
    "print(f\"Number of TRANSFER/CASH_OUT with all balances zero and high amount: {len(fraud_zero_balances_high_amount)}\")"
   ]
  },
  {
   "cell_type": "markdown",
   "id": "906a0d8d-9698-4932-9f18-55c8afb706ef",
   "metadata": {},
   "source": [
    "The Destination shows more balance inconsistencies than the Origin. Keeping in mind that fraudulent transactions in this dataset come only from transfers and cash-outs, we can conclude that:\n",
    "- A good portion of the total fraudulent activities come from the 'transfers' on the Destination's account.\n",
    "    - From this transfers, the Origin's account was emptied 8012 times.\n",
    "    - The Destination's account started and ended with $0 balance 4070 times."
   ]
  },
  {
   "cell_type": "code",
   "execution_count": 34,
   "id": "a7873a23-261f-484f-be7e-2aba81e982b6",
   "metadata": {},
   "outputs": [
    {
     "name": "stdout",
     "output_type": "stream",
     "text": [
      "--- Illegal Attemps to Transfer more than $200,000 ---\n",
      "All transactions flagged as fraudulent were correclty flagged.\n"
     ]
    }
   ],
   "source": [
    "# Relationship between isFlaggedFraud and isFraud\n",
    "print(\"--- Illegal Attemps to Transfer more than $200,000 ---\")\n",
    "flagged_transactions = (df['isFlaggedFraud'] == 1).sum()\n",
    "df_fraud = df[df['isFraud'] == 1].copy()\n",
    "correctly_flagged = (df_fraud['isFlaggedFraud'] == 1).sum()\n",
    "if flagged_transactions == correctly_flagged:\n",
    "    print(\"All transactions flagged as fraudulent were correclty flagged.\")\n",
    "else:\n",
    "    print(f\"Out of {flagged_transactions} transactions flagged as fraudulent (transfer over $200,000), {correctly_flagged} were correclty flagged.\")"
   ]
  },
  {
   "cell_type": "markdown",
   "id": "9c042107-a6d9-4795-b41f-b796c431ee1e",
   "metadata": {},
   "source": [
    "Based on the observations on this dataset, we can conclude that transfers of $200,000 or more are 100% fraudulent."
   ]
  }
 ],
 "metadata": {
  "kernelspec": {
   "display_name": "Python 3 (ipykernel)",
   "language": "python",
   "name": "python3"
  },
  "language_info": {
   "codemirror_mode": {
    "name": "ipython",
    "version": 3
   },
   "file_extension": ".py",
   "mimetype": "text/x-python",
   "name": "python",
   "nbconvert_exporter": "python",
   "pygments_lexer": "ipython3",
   "version": "3.12.6"
  }
 },
 "nbformat": 4,
 "nbformat_minor": 5
}
